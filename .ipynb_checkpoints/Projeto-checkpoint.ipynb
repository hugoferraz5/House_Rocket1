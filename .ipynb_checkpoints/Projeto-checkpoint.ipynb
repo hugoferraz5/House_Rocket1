{
 "cells": [
  {
   "cell_type": "code",
   "execution_count": 46,
   "id": "1b445882",
   "metadata": {
    "ExecuteTime": {
     "end_time": "2022-01-03T15:12:34.579510Z",
     "start_time": "2022-01-03T15:12:34.556508Z"
    }
   },
   "outputs": [],
   "source": [
    "from matplotlib import gridspec\n",
    "from datetime import datetime\n",
    "from ipywidgets import fixed\n",
    "from tabulate import tabulate\n",
    "from matplotlib import pyplot as plt\n",
    "import pandas as pd\n",
    "import numpy as np\n",
    "import plotly.express as px\n",
    "import warnings\n",
    "import tqdm\n",
    "import ipywidgets as widgets\n",
    "import seaborn as sns\n",
    "import matplotlib.ticker as mtick"
   ]
  },
  {
   "cell_type": "code",
   "execution_count": 8,
   "id": "6909c636",
   "metadata": {
    "ExecuteTime": {
     "end_time": "2022-01-03T12:33:09.911275Z",
     "start_time": "2022-01-03T12:33:09.640620Z"
    }
   },
   "outputs": [],
   "source": [
    " data = pd.read_csv('kc_house_data.csv')"
   ]
  },
  {
   "cell_type": "code",
   "execution_count": 43,
   "id": "277417cf",
   "metadata": {
    "ExecuteTime": {
     "end_time": "2022-01-03T15:09:59.837635Z",
     "start_time": "2022-01-03T15:09:59.793609Z"
    }
   },
   "outputs": [],
   "source": [
    "df['date'] = pd.to_datetime(df['date']) "
   ]
  },
  {
   "cell_type": "code",
   "execution_count": 30,
   "id": "3859ad5f",
   "metadata": {
    "ExecuteTime": {
     "end_time": "2022-01-03T14:31:36.789240Z",
     "start_time": "2022-01-03T14:31:36.770232Z"
    }
   },
   "outputs": [],
   "source": [
    "data['price'] = data['price'].astype(int)"
   ]
  },
  {
   "cell_type": "code",
   "execution_count": 36,
   "id": "cb460f6e",
   "metadata": {
    "ExecuteTime": {
     "end_time": "2022-01-03T14:46:21.765255Z",
     "start_time": "2022-01-03T14:46:21.706006Z"
    }
   },
   "outputs": [
    {
     "data": {
      "text/plain": [
       "id                 int64\n",
       "date              object\n",
       "price              int32\n",
       "bedrooms           int64\n",
       "bathrooms        float64\n",
       "sqft_living        int64\n",
       "sqft_lot           int64\n",
       "floors           float64\n",
       "waterfront         int64\n",
       "view               int64\n",
       "condition          int64\n",
       "grade              int64\n",
       "sqft_above         int64\n",
       "sqft_basement      int64\n",
       "yr_built           int64\n",
       "yr_renovated       int64\n",
       "zipcode            int64\n",
       "lat              float64\n",
       "long             float64\n",
       "sqft_living15      int64\n",
       "sqft_lot15         int64\n",
       "dtype: object"
      ]
     },
     "execution_count": 36,
     "metadata": {},
     "output_type": "execute_result"
    }
   ],
   "source": [
    "df = data.copy()\n",
    "df.dtypes"
   ]
  },
  {
   "cell_type": "code",
   "execution_count": 47,
   "id": "0141a909",
   "metadata": {
    "ExecuteTime": {
     "end_time": "2022-01-03T15:12:37.965355Z",
     "start_time": "2022-01-03T15:12:37.652776Z"
    }
   },
   "outputs": [
    {
     "name": "stderr",
     "output_type": "stream",
     "text": [
      "C:\\ProgramData\\Anaconda3\\lib\\site-packages\\seaborn\\_decorators.py:36: FutureWarning:\n",
      "\n",
      "Pass the following variables as keyword args: x, y. From version 0.12, the only valid positional argument will be `data`, and passing other arguments without an explicit keyword will result in an error or misinterpretation.\n",
      "\n"
     ]
    },
    {
     "data": {
      "image/png": "[encoded data removed]",
      "text/plain": [
       "<Figure size 432x288 with 1 Axes>"
      ]
     },
     "metadata": {
      "needs_background": "light"
     },
     "output_type": "display_data"
    }
   ],
   "source": [
    "h1 = df[['price', 'waterfront']].groupby('waterfront').mean().reset_index()\n",
    "\n",
    "h1['waterfront'] = h1['waterfront'].astype(str)\n",
    "\n",
    "sns.barplot(h1['waterfront'], h1['price']);"
   ]
  },
  {
   "cell_type": "code",
   "execution_count": 41,
   "id": "9be79672",
   "metadata": {
    "ExecuteTime": {
     "end_time": "2022-01-03T15:06:19.166280Z",
     "start_time": "2022-01-03T15:06:18.962935Z"
    }
   },
   "outputs": [
    {
     "name": "stderr",
     "output_type": "stream",
     "text": [
      "C:\\ProgramData\\Anaconda3\\lib\\site-packages\\seaborn\\_decorators.py:36: FutureWarning:\n",
      "\n",
      "Pass the following variables as keyword args: x, y. From version 0.12, the only valid positional argument will be `data`, and passing other arguments without an explicit keyword will result in an error or misinterpretation.\n",
      "\n"
     ]
    },
    {
     "data": {
      "image/png": "[encoded data removed]",
      "text/plain": [
       "<Figure size 432x288 with 1 Axes>"
      ]
     },
     "metadata": {
      "needs_background": "light"
     },
     "output_type": "display_data"
    }
   ],
   "source": [
    "df['ano_construcao'] = df['yr_built'].apply(lambda x: '> 1955' if x > 1955\n",
    "                                                               else '< 1955')\n",
    "h2 = df[['ano_construcao', 'price']].groupby('ano_construcao').mean().reset_index()\n",
    "\n",
    "sns.barplot(h2['ano_construcao'], h2['price']);"
   ]
  },
  {
   "cell_type": "code",
   "execution_count": 42,
   "id": "82704882",
   "metadata": {
    "ExecuteTime": {
     "end_time": "2022-01-03T15:09:15.703498Z",
     "start_time": "2022-01-03T15:09:15.458651Z"
    }
   },
   "outputs": [
    {
     "name": "stderr",
     "output_type": "stream",
     "text": [
      "C:\\ProgramData\\Anaconda3\\lib\\site-packages\\seaborn\\_decorators.py:36: FutureWarning:\n",
      "\n",
      "Pass the following variables as keyword args: x, y. From version 0.12, the only valid positional argument will be `data`, and passing other arguments without an explicit keyword will result in an error or misinterpretation.\n",
      "\n"
     ]
    },
    {
     "data": {
      "image/png": "[encoded data removed]",
      "text/plain": [
       "<Figure size 432x288 with 1 Axes>"
      ]
     },
     "metadata": {
      "needs_background": "light"
     },
     "output_type": "display_data"
    }
   ],
   "source": [
    "df['porao'] = df['sqft_basement'].apply(lambda x: 'nao' if x == 0\n",
    "                                                  else 'sim')\n",
    "h3 = df[['porao', 'sqft_lot', 'price']].groupby('porao').sum().reset_index()\n",
    "\n",
    "h3\n",
    "sns.barplot(h3['porao'], h3['sqft_lot']);"
   ]
  },
  {
   "cell_type": "code",
   "execution_count": 44,
   "id": "a438b118",
   "metadata": {
    "ExecuteTime": {
     "end_time": "2022-01-03T15:10:37.391391Z",
     "start_time": "2022-01-03T15:10:37.107056Z"
    }
   },
   "outputs": [
    {
     "name": "stderr",
     "output_type": "stream",
     "text": [
      "C:\\ProgramData\\Anaconda3\\lib\\site-packages\\seaborn\\_decorators.py:36: FutureWarning:\n",
      "\n",
      "Pass the following variables as keyword args: x, y. From version 0.12, the only valid positional argument will be `data`, and passing other arguments without an explicit keyword will result in an error or misinterpretation.\n",
      "\n"
     ]
    },
    {
     "data": {
      "image/png": "[encoded data removed]",
      "text/plain": [
       "<Figure size 432x288 with 1 Axes>"
      ]
     },
     "metadata": {
      "needs_background": "light"
     },
     "output_type": "display_data"
    }
   ],
   "source": [
    "df['ano'] = df['date'].dt.year\n",
    "h4 = df[['price', 'ano']].groupby('ano').sum().reset_index()\n",
    "\n",
    "h4['ano'] = h4['ano'].astype(str)\n",
    "\n",
    "sns.barplot(h4['ano'], h4['price']);"
   ]
  },
  {
   "cell_type": "code",
   "execution_count": 45,
   "id": "89158fef",
   "metadata": {
    "ExecuteTime": {
     "end_time": "2022-01-03T15:11:54.767625Z",
     "start_time": "2022-01-03T15:11:54.313557Z"
    }
   },
   "outputs": [
    {
     "data": {
      "image/png": "[encoded data removed]",
      "text/plain": [
       "<Figure size 432x288 with 1 Axes>"
      ]
     },
     "metadata": {
      "needs_background": "light"
     },
     "output_type": "display_data"
    }
   ],
   "source": [
    "df['mes'] = df['date'].dt.month\n",
    "h5 = df[(df['bathrooms'] == 3)]\n",
    "\n",
    "h5 = h5[['mes', 'price']].groupby('mes').sum().reset_index()\n",
    "\n",
    "\n",
    "sns.lineplot(data = h5, x = 'mes', y = 'price', markers = True, style = (1), legend = False, color = 'black');"
   ]
  },
  {
   "cell_type": "code",
   "execution_count": null,
   "id": "a1a0c9a6",
   "metadata": {},
   "outputs": [],
   "source": []
  }
 ],
 "metadata": {
  "kernelspec": {
   "display_name": "Python 3",
   "language": "python",
   "name": "python3"
  },
  "language_info": {
   "codemirror_mode": {
    "name": "ipython",
    "version": 3
   },
   "file_extension": ".py",
   "mimetype": "text/x-python",
   "name": "python",
   "nbconvert_exporter": "python",
   "pygments_lexer": "ipython3",
   "version": "3.8.8"
  }
 },
 "nbformat": 4,
 "nbformat_minor": 5
}
