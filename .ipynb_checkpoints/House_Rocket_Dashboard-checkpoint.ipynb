{
 "cells": [
  {
   "cell_type": "markdown",
   "id": "c6223dae",
   "metadata": {},
   "source": [
    "# 1 Imports"
   ]
  },
  {
   "cell_type": "code",
   "execution_count": 52,
   "id": "21ba043b",
   "metadata": {
    "ExecuteTime": {
     "end_time": "2022-01-06T17:49:53.625041Z",
     "start_time": "2022-01-06T17:49:49.809414Z"
    }
   },
   "outputs": [],
   "source": [
    "import pandas as pd\n",
    "import numpy as np\n",
    "from datetime import datetime\n",
    "from ipywidgets import fixed\n",
    "import plotly.express as px\n",
    "\n",
    "import ipywidgets as widgets\n",
    "import seaborn as sns\n",
    "import matplotlib.ticker as mtick\n",
    "from matplotlib import pyplot as plt"
   ]
  },
  {
   "cell_type": "markdown",
   "id": "6d04a8b0",
   "metadata": {},
   "source": [
    "# 2 Load Data"
   ]
  },
  {
   "cell_type": "markdown",
   "id": "1f7c5327",
   "metadata": {},
   "source": [
    "## 2.1 Dataset"
   ]
  },
  {
   "cell_type": "code",
   "execution_count": 53,
   "id": "7793a9b7",
   "metadata": {
    "ExecuteTime": {
     "end_time": "2022-01-06T17:49:54.586032Z",
     "start_time": "2022-01-06T17:49:54.473649Z"
    }
   },
   "outputs": [
    {
     "data": {
      "text/html": [
       "<div>\n",
       "<style scoped>\n",
       "    .dataframe tbody tr th:only-of-type {\n",
       "        vertical-align: middle;\n",
       "    }\n",
       "\n",
       "    .dataframe tbody tr th {\n",
       "        vertical-align: top;\n",
       "    }\n",
       "\n",
       "    .dataframe thead th {\n",
       "        text-align: right;\n",
       "    }\n",
       "</style>\n",
       "<table border=\"1\" class=\"dataframe\">\n",
       "  <thead>\n",
       "    <tr style=\"text-align: right;\">\n",
       "      <th></th>\n",
       "      <th>id</th>\n",
       "      <th>date</th>\n",
       "      <th>price</th>\n",
       "      <th>bedrooms</th>\n",
       "      <th>bathrooms</th>\n",
       "      <th>sqft_living</th>\n",
       "      <th>sqft_lot</th>\n",
       "      <th>floors</th>\n",
       "      <th>waterfront</th>\n",
       "      <th>view</th>\n",
       "      <th>...</th>\n",
       "      <th>grade</th>\n",
       "      <th>sqft_above</th>\n",
       "      <th>sqft_basement</th>\n",
       "      <th>yr_built</th>\n",
       "      <th>yr_renovated</th>\n",
       "      <th>zipcode</th>\n",
       "      <th>lat</th>\n",
       "      <th>long</th>\n",
       "      <th>sqft_living15</th>\n",
       "      <th>sqft_lot15</th>\n",
       "    </tr>\n",
       "  </thead>\n",
       "  <tbody>\n",
       "    <tr>\n",
       "      <th>0</th>\n",
       "      <td>7129300520</td>\n",
       "      <td>20141013T000000</td>\n",
       "      <td>221900.00</td>\n",
       "      <td>3</td>\n",
       "      <td>1.00</td>\n",
       "      <td>1180</td>\n",
       "      <td>5650</td>\n",
       "      <td>1.00</td>\n",
       "      <td>0</td>\n",
       "      <td>0</td>\n",
       "      <td>...</td>\n",
       "      <td>7</td>\n",
       "      <td>1180</td>\n",
       "      <td>0</td>\n",
       "      <td>1955</td>\n",
       "      <td>0</td>\n",
       "      <td>98178</td>\n",
       "      <td>47.51</td>\n",
       "      <td>-122.26</td>\n",
       "      <td>1340</td>\n",
       "      <td>5650</td>\n",
       "    </tr>\n",
       "    <tr>\n",
       "      <th>1</th>\n",
       "      <td>6414100192</td>\n",
       "      <td>20141209T000000</td>\n",
       "      <td>538000.00</td>\n",
       "      <td>3</td>\n",
       "      <td>2.25</td>\n",
       "      <td>2570</td>\n",
       "      <td>7242</td>\n",
       "      <td>2.00</td>\n",
       "      <td>0</td>\n",
       "      <td>0</td>\n",
       "      <td>...</td>\n",
       "      <td>7</td>\n",
       "      <td>2170</td>\n",
       "      <td>400</td>\n",
       "      <td>1951</td>\n",
       "      <td>1991</td>\n",
       "      <td>98125</td>\n",
       "      <td>47.72</td>\n",
       "      <td>-122.32</td>\n",
       "      <td>1690</td>\n",
       "      <td>7639</td>\n",
       "    </tr>\n",
       "    <tr>\n",
       "      <th>2</th>\n",
       "      <td>5631500400</td>\n",
       "      <td>20150225T000000</td>\n",
       "      <td>180000.00</td>\n",
       "      <td>2</td>\n",
       "      <td>1.00</td>\n",
       "      <td>770</td>\n",
       "      <td>10000</td>\n",
       "      <td>1.00</td>\n",
       "      <td>0</td>\n",
       "      <td>0</td>\n",
       "      <td>...</td>\n",
       "      <td>6</td>\n",
       "      <td>770</td>\n",
       "      <td>0</td>\n",
       "      <td>1933</td>\n",
       "      <td>0</td>\n",
       "      <td>98028</td>\n",
       "      <td>47.74</td>\n",
       "      <td>-122.23</td>\n",
       "      <td>2720</td>\n",
       "      <td>8062</td>\n",
       "    </tr>\n",
       "  </tbody>\n",
       "</table>\n",
       "<p>3 rows × 21 columns</p>\n",
       "</div>"
      ],
      "text/plain": [
       "           id             date     price  bedrooms  bathrooms  sqft_living  \\\n",
       "0  7129300520  20141013T000000 221900.00         3       1.00         1180   \n",
       "1  6414100192  20141209T000000 538000.00         3       2.25         2570   \n",
       "2  5631500400  20150225T000000 180000.00         2       1.00          770   \n",
       "\n",
       "   sqft_lot  floors  waterfront  view  ...  grade  sqft_above  sqft_basement  \\\n",
       "0      5650    1.00           0     0  ...      7        1180              0   \n",
       "1      7242    2.00           0     0  ...      7        2170            400   \n",
       "2     10000    1.00           0     0  ...      6         770              0   \n",
       "\n",
       "   yr_built  yr_renovated  zipcode   lat    long  sqft_living15  sqft_lot15  \n",
       "0      1955             0    98178 47.51 -122.26           1340        5650  \n",
       "1      1951          1991    98125 47.72 -122.32           1690        7639  \n",
       "2      1933             0    98028 47.74 -122.23           2720        8062  \n",
       "\n",
       "[3 rows x 21 columns]"
      ]
     },
     "execution_count": 53,
     "metadata": {},
     "output_type": "execute_result"
    }
   ],
   "source": [
    "df = pd.read_csv('kc_house_data.csv')\n",
    "pd.options.display.float_format = '{:.2f}'.format\n",
    "df.head(3)"
   ]
  },
  {
   "cell_type": "markdown",
   "id": "2e05103f",
   "metadata": {},
   "source": [
    "## 2.2 Dtypes"
   ]
  },
  {
   "cell_type": "code",
   "execution_count": 54,
   "id": "f3f54cbd",
   "metadata": {
    "ExecuteTime": {
     "end_time": "2022-01-06T17:49:57.698367Z",
     "start_time": "2022-01-06T17:49:57.680376Z"
    }
   },
   "outputs": [
    {
     "data": {
      "text/plain": [
       "id                 int64\n",
       "date              object\n",
       "price            float64\n",
       "bedrooms           int64\n",
       "bathrooms        float64\n",
       "sqft_living        int64\n",
       "sqft_lot           int64\n",
       "floors           float64\n",
       "waterfront         int64\n",
       "view               int64\n",
       "condition          int64\n",
       "grade              int64\n",
       "sqft_above         int64\n",
       "sqft_basement      int64\n",
       "yr_built           int64\n",
       "yr_renovated       int64\n",
       "zipcode            int64\n",
       "lat              float64\n",
       "long             float64\n",
       "sqft_living15      int64\n",
       "sqft_lot15         int64\n",
       "dtype: object"
      ]
     },
     "execution_count": 54,
     "metadata": {},
     "output_type": "execute_result"
    }
   ],
   "source": [
    "df.dtypes"
   ]
  },
  {
   "cell_type": "code",
   "execution_count": 55,
   "id": "5dd96774",
   "metadata": {
    "ExecuteTime": {
     "end_time": "2022-01-06T17:49:58.947473Z",
     "start_time": "2022-01-06T17:49:58.920491Z"
    }
   },
   "outputs": [],
   "source": [
    "df['date'] = pd.to_datetime(df['date']) \n",
    "df['price'] = df['price'].astype(int)"
   ]
  },
  {
   "cell_type": "code",
   "execution_count": 56,
   "id": "460fb77a",
   "metadata": {
    "ExecuteTime": {
     "end_time": "2022-01-06T17:50:01.098363Z",
     "start_time": "2022-01-06T17:50:01.003810Z"
    }
   },
   "outputs": [
    {
     "data": {
      "text/html": [
       "<div>\n",
       "<style scoped>\n",
       "    .dataframe tbody tr th:only-of-type {\n",
       "        vertical-align: middle;\n",
       "    }\n",
       "\n",
       "    .dataframe tbody tr th {\n",
       "        vertical-align: top;\n",
       "    }\n",
       "\n",
       "    .dataframe thead th {\n",
       "        text-align: right;\n",
       "    }\n",
       "</style>\n",
       "<table border=\"1\" class=\"dataframe\">\n",
       "  <thead>\n",
       "    <tr style=\"text-align: right;\">\n",
       "      <th></th>\n",
       "      <th>id</th>\n",
       "      <th>date</th>\n",
       "      <th>price</th>\n",
       "      <th>bedrooms</th>\n",
       "      <th>bathrooms</th>\n",
       "      <th>sqft_living</th>\n",
       "      <th>sqft_lot</th>\n",
       "      <th>floors</th>\n",
       "      <th>waterfront</th>\n",
       "      <th>view</th>\n",
       "      <th>...</th>\n",
       "      <th>grade</th>\n",
       "      <th>sqft_above</th>\n",
       "      <th>sqft_basement</th>\n",
       "      <th>yr_built</th>\n",
       "      <th>yr_renovated</th>\n",
       "      <th>zipcode</th>\n",
       "      <th>lat</th>\n",
       "      <th>long</th>\n",
       "      <th>sqft_living15</th>\n",
       "      <th>sqft_lot15</th>\n",
       "    </tr>\n",
       "  </thead>\n",
       "  <tbody>\n",
       "    <tr>\n",
       "      <th>0</th>\n",
       "      <td>7129300520</td>\n",
       "      <td>2014-10-13</td>\n",
       "      <td>221900</td>\n",
       "      <td>3</td>\n",
       "      <td>1.00</td>\n",
       "      <td>1180</td>\n",
       "      <td>5650</td>\n",
       "      <td>1.00</td>\n",
       "      <td>0</td>\n",
       "      <td>0</td>\n",
       "      <td>...</td>\n",
       "      <td>7</td>\n",
       "      <td>1180</td>\n",
       "      <td>0</td>\n",
       "      <td>1955</td>\n",
       "      <td>0</td>\n",
       "      <td>98178</td>\n",
       "      <td>47.51</td>\n",
       "      <td>-122.26</td>\n",
       "      <td>1340</td>\n",
       "      <td>5650</td>\n",
       "    </tr>\n",
       "    <tr>\n",
       "      <th>1</th>\n",
       "      <td>6414100192</td>\n",
       "      <td>2014-12-09</td>\n",
       "      <td>538000</td>\n",
       "      <td>3</td>\n",
       "      <td>2.25</td>\n",
       "      <td>2570</td>\n",
       "      <td>7242</td>\n",
       "      <td>2.00</td>\n",
       "      <td>0</td>\n",
       "      <td>0</td>\n",
       "      <td>...</td>\n",
       "      <td>7</td>\n",
       "      <td>2170</td>\n",
       "      <td>400</td>\n",
       "      <td>1951</td>\n",
       "      <td>1991</td>\n",
       "      <td>98125</td>\n",
       "      <td>47.72</td>\n",
       "      <td>-122.32</td>\n",
       "      <td>1690</td>\n",
       "      <td>7639</td>\n",
       "    </tr>\n",
       "    <tr>\n",
       "      <th>2</th>\n",
       "      <td>5631500400</td>\n",
       "      <td>2015-02-25</td>\n",
       "      <td>180000</td>\n",
       "      <td>2</td>\n",
       "      <td>1.00</td>\n",
       "      <td>770</td>\n",
       "      <td>10000</td>\n",
       "      <td>1.00</td>\n",
       "      <td>0</td>\n",
       "      <td>0</td>\n",
       "      <td>...</td>\n",
       "      <td>6</td>\n",
       "      <td>770</td>\n",
       "      <td>0</td>\n",
       "      <td>1933</td>\n",
       "      <td>0</td>\n",
       "      <td>98028</td>\n",
       "      <td>47.74</td>\n",
       "      <td>-122.23</td>\n",
       "      <td>2720</td>\n",
       "      <td>8062</td>\n",
       "    </tr>\n",
       "    <tr>\n",
       "      <th>3</th>\n",
       "      <td>2487200875</td>\n",
       "      <td>2014-12-09</td>\n",
       "      <td>604000</td>\n",
       "      <td>4</td>\n",
       "      <td>3.00</td>\n",
       "      <td>1960</td>\n",
       "      <td>5000</td>\n",
       "      <td>1.00</td>\n",
       "      <td>0</td>\n",
       "      <td>0</td>\n",
       "      <td>...</td>\n",
       "      <td>7</td>\n",
       "      <td>1050</td>\n",
       "      <td>910</td>\n",
       "      <td>1965</td>\n",
       "      <td>0</td>\n",
       "      <td>98136</td>\n",
       "      <td>47.52</td>\n",
       "      <td>-122.39</td>\n",
       "      <td>1360</td>\n",
       "      <td>5000</td>\n",
       "    </tr>\n",
       "    <tr>\n",
       "      <th>4</th>\n",
       "      <td>1954400510</td>\n",
       "      <td>2015-02-18</td>\n",
       "      <td>510000</td>\n",
       "      <td>3</td>\n",
       "      <td>2.00</td>\n",
       "      <td>1680</td>\n",
       "      <td>8080</td>\n",
       "      <td>1.00</td>\n",
       "      <td>0</td>\n",
       "      <td>0</td>\n",
       "      <td>...</td>\n",
       "      <td>8</td>\n",
       "      <td>1680</td>\n",
       "      <td>0</td>\n",
       "      <td>1987</td>\n",
       "      <td>0</td>\n",
       "      <td>98074</td>\n",
       "      <td>47.62</td>\n",
       "      <td>-122.05</td>\n",
       "      <td>1800</td>\n",
       "      <td>7503</td>\n",
       "    </tr>\n",
       "  </tbody>\n",
       "</table>\n",
       "<p>5 rows × 21 columns</p>\n",
       "</div>"
      ],
      "text/plain": [
       "           id       date   price  bedrooms  bathrooms  sqft_living  sqft_lot  \\\n",
       "0  7129300520 2014-10-13  221900         3       1.00         1180      5650   \n",
       "1  6414100192 2014-12-09  538000         3       2.25         2570      7242   \n",
       "2  5631500400 2015-02-25  180000         2       1.00          770     10000   \n",
       "3  2487200875 2014-12-09  604000         4       3.00         1960      5000   \n",
       "4  1954400510 2015-02-18  510000         3       2.00         1680      8080   \n",
       "\n",
       "   floors  waterfront  view  ...  grade  sqft_above  sqft_basement  yr_built  \\\n",
       "0    1.00           0     0  ...      7        1180              0      1955   \n",
       "1    2.00           0     0  ...      7        2170            400      1951   \n",
       "2    1.00           0     0  ...      6         770              0      1933   \n",
       "3    1.00           0     0  ...      7        1050            910      1965   \n",
       "4    1.00           0     0  ...      8        1680              0      1987   \n",
       "\n",
       "   yr_renovated  zipcode   lat    long  sqft_living15  sqft_lot15  \n",
       "0             0    98178 47.51 -122.26           1340        5650  \n",
       "1          1991    98125 47.72 -122.32           1690        7639  \n",
       "2             0    98028 47.74 -122.23           2720        8062  \n",
       "3             0    98136 47.52 -122.39           1360        5000  \n",
       "4             0    98074 47.62 -122.05           1800        7503  \n",
       "\n",
       "[5 rows x 21 columns]"
      ]
     },
     "execution_count": 56,
     "metadata": {},
     "output_type": "execute_result"
    }
   ],
   "source": [
    "df.head()"
   ]
  },
  {
   "cell_type": "code",
   "execution_count": 58,
   "id": "385ad518",
   "metadata": {
    "ExecuteTime": {
     "end_time": "2022-01-06T17:50:02.347460Z",
     "start_time": "2022-01-06T17:50:02.327468Z"
    }
   },
   "outputs": [],
   "source": [
    "df = df.copy()"
   ]
  },
  {
   "cell_type": "markdown",
   "id": "84dea291",
   "metadata": {},
   "source": [
    "# 3 INSIGHTS"
   ]
  },
  {
   "cell_type": "markdown",
   "id": "43942fcc",
   "metadata": {},
   "source": [
    "# H1: Imóveis com vista para a água são em média 30% mais caros"
   ]
  },
  {
   "cell_type": "code",
   "execution_count": 43,
   "id": "53dd50d6",
   "metadata": {
    "ExecuteTime": {
     "end_time": "2022-01-06T17:50:05.935400Z",
     "start_time": "2022-01-06T17:50:05.607919Z"
    }
   },
   "outputs": [
    {
     "data": {
      "image/png": "[encoded data removed]",
      "text/plain": [
       "<Figure size 640x480 with 1 Axes>"
      ]
     },
     "metadata": {},
     "output_type": "display_data"
    }
   ],
   "source": [
    "h1 = df[['price', 'waterfront']].groupby('waterfront').mean().reset_index()\n",
    "\n",
    "h1['waterfront'] = h1['waterfront'].astype(str)\n",
    "\n",
    "sns.barplot(x = 'waterfront', y = 'price', data = h1);\n",
    "\n",
    "plt.ticklabel_format(style='plain', axis='y')\n",
    "\n",
    "plt.show()"
   ]
  },
  {
   "cell_type": "markdown",
   "id": "18caf682",
   "metadata": {
    "ExecuteTime": {
     "end_time": "2022-01-06T13:03:15.391955Z",
     "start_time": "2022-01-06T13:03:15.377966Z"
    }
   },
   "source": [
    "# H2: Imóveis com data de construção menor que 1955 são em média 50% mais baratos."
   ]
  },
  {
   "cell_type": "code",
   "execution_count": 44,
   "id": "29829547",
   "metadata": {
    "ExecuteTime": {
     "end_time": "2022-01-06T17:50:07.755445Z",
     "start_time": "2022-01-06T17:50:07.464454Z"
    }
   },
   "outputs": [
    {
     "data": {
      "image/png": "[encoded data removed]",
      "text/plain": [
       "<Figure size 640x480 with 1 Axes>"
      ]
     },
     "metadata": {},
     "output_type": "display_data"
    }
   ],
   "source": [
    "df['ano_construcao'] = df['yr_built'].apply(lambda x: '> 1955' if x > 1955\n",
    "                                                               else '< 1955')\n",
    "h2 = df[['ano_construcao', 'price']].groupby('ano_construcao').mean().reset_index()\n",
    "\n",
    "sns.barplot(x = 'ano_construcao', y = 'price', data = h2);\n",
    "\n",
    "plt.show()"
   ]
  },
  {
   "cell_type": "markdown",
   "id": "d5a2a5f7",
   "metadata": {},
   "source": [
    "# H3: Imóveis sem porão com maior área total são 40% mais caros"
   ]
  },
  {
   "cell_type": "code",
   "execution_count": 47,
   "id": "0de28100",
   "metadata": {
    "ExecuteTime": {
     "end_time": "2022-01-06T17:50:09.359705Z",
     "start_time": "2022-01-06T17:50:09.143426Z"
    }
   },
   "outputs": [
    {
     "data": {
      "image/png": "[encoded data removed]",
      "text/plain": [
       "<Figure size 640x480 with 1 Axes>"
      ]
     },
     "metadata": {},
     "output_type": "display_data"
    }
   ],
   "source": [
    "df['porao'] = df['sqft_basement'].apply(lambda x: 'nao' if x == 0\n",
    "                                                  else 'sim')\n",
    "h3 = df[['porao', 'sqft_lot', 'price']].groupby('porao').sum().reset_index()\n",
    "\n",
    "sns.barplot(x = 'porao', y = 'sqft_lot', data = h3);\n",
    "\n",
    "plt.ticklabel_format(style='plain', axis='y')\n",
    "\n",
    "plt.show()"
   ]
  },
  {
   "cell_type": "markdown",
   "id": "cc5241b7",
   "metadata": {},
   "source": [
    "# H4: O crescimento do preço dos imóveis ano após ano (YoY) é de 10%\n"
   ]
  },
  {
   "cell_type": "code",
   "execution_count": 48,
   "id": "378cf95e",
   "metadata": {
    "ExecuteTime": {
     "end_time": "2022-01-06T17:50:10.560895Z",
     "start_time": "2022-01-06T17:50:10.351285Z"
    }
   },
   "outputs": [
    {
     "data": {
      "image/png": "[encoded data removed]",
      "text/plain": [
       "<Figure size 640x480 with 1 Axes>"
      ]
     },
     "metadata": {},
     "output_type": "display_data"
    }
   ],
   "source": [
    "df['ano'] = df['date'].dt.year\n",
    "h4 = df[['price', 'ano']].groupby('ano').sum().reset_index()\n",
    "\n",
    "h4['ano'] = h4['ano'].astype(str)\n",
    "\n",
    "sns.barplot(x = 'ano', y = 'price', data = h4);\n",
    "\n",
    "plt.ticklabel_format(style='plain', axis='y')\n",
    "\n",
    "plt.show() "
   ]
  },
  {
   "cell_type": "markdown",
   "id": "f5af59fc",
   "metadata": {
    "ExecuteTime": {
     "end_time": "2022-01-06T13:17:11.458125Z",
     "start_time": "2022-01-06T13:17:11.444126Z"
    }
   },
   "source": [
    "# H5: Imóveis com 3 banheiros tem um crescimento mês após mês (MoM) de 15%."
   ]
  },
  {
   "cell_type": "code",
   "execution_count": 49,
   "id": "4df452e8",
   "metadata": {
    "ExecuteTime": {
     "end_time": "2022-01-06T17:50:11.704149Z",
     "start_time": "2022-01-06T17:50:11.415406Z"
    }
   },
   "outputs": [
    {
     "data": {
      "image/png": "[encoded data removed]",
      "text/plain": [
       "<Figure size 640x480 with 1 Axes>"
      ]
     },
     "metadata": {},
     "output_type": "display_data"
    }
   ],
   "source": [
    "df['mes'] = df['date'].dt.month\n",
    "h5 = df[(df['bathrooms'] == 3)]\n",
    "\n",
    "h5 = h5[['mes', 'price']].groupby('mes').sum().reset_index()\n",
    "\n",
    "\n",
    "sns.lineplot(data = h5, x = 'mes', y = 'price', markers = True, style = (1), legend = False, color = 'black');\n",
    "\n",
    "plt.ticklabel_format(style='plain', axis='y')\n",
    "\n",
    "plt.show()"
   ]
  },
  {
   "cell_type": "markdown",
   "id": "91a4419a",
   "metadata": {
    "ExecuteTime": {
     "end_time": "2022-01-06T13:18:18.483039Z",
     "start_time": "2022-01-06T13:18:18.476043Z"
    }
   },
   "source": [
    "# H6: Imóveis com mais banheiros são em média 5% mais caros."
   ]
  },
  {
   "cell_type": "code",
   "execution_count": 50,
   "id": "8cd910a3",
   "metadata": {
    "ExecuteTime": {
     "end_time": "2022-01-06T17:50:12.823425Z",
     "start_time": "2022-01-06T17:50:12.575396Z"
    }
   },
   "outputs": [
    {
     "data": {
      "image/png": "[encoded data removed]",
      "text/plain": [
       "<Figure size 640x480 with 1 Axes>"
      ]
     },
     "metadata": {},
     "output_type": "display_data"
    }
   ],
   "source": [
    "df['banheiro'] =  df['bathrooms'].apply(lambda x: '0-3' if (x > 0 ) & (x < 3) else\n",
    "                                                   '3-5' if (x > 3) & (x < 5) else\n",
    "                                                   '5-8')\n",
    "h6 = df[['banheiro', 'price', 'sqft_lot']].groupby('banheiro').mean().reset_index()\n",
    "\n",
    "sns.barplot(x = 'banheiro', y = 'price', data = h6);\n",
    "\n",
    "plt.ticklabel_format(style='plain', axis='y')\n",
    "\n",
    "plt.show()"
   ]
  },
  {
   "cell_type": "markdown",
   "id": "1e37bff1",
   "metadata": {},
   "source": [
    "# H7: O crescimento do preço dos imóveis MoM é de 10%"
   ]
  },
  {
   "cell_type": "code",
   "execution_count": 51,
   "id": "815d5792",
   "metadata": {
    "ExecuteTime": {
     "end_time": "2022-01-06T17:50:13.970255Z",
     "start_time": "2022-01-06T17:50:13.667570Z"
    }
   },
   "outputs": [
    {
     "data": {
      "image/png": "[encoded data removed]",
      "text/plain": [
       "<Figure size 640x480 with 1 Axes>"
      ]
     },
     "metadata": {},
     "output_type": "display_data"
    }
   ],
   "source": [
    "df['mes'] = df['date'].dt.month\n",
    "df['ano'] = df['date'].dt.year\n",
    "h41 =  df[['mes', 'price']].groupby('mes').sum().reset_index()\n",
    "\n",
    "sns.set_theme(style=\"ticks\")\n",
    "sns.set_context('notebook')\n",
    "sns.lineplot(data = h41, x = 'mes',  y = 'price', \n",
    "             markers = True, style = (1), legend = False, \n",
    "             color = 'black');\n",
    "\n",
    "plt.ticklabel_format(style='plain', axis='y')\n",
    "\n",
    "plt.show()"
   ]
  },
  {
   "cell_type": "markdown",
   "id": "a7acdda1",
   "metadata": {},
   "source": [
    "# 4 Respondendo as questões de negócio"
   ]
  },
  {
   "cell_type": "markdown",
   "id": "df03e438",
   "metadata": {
    "ExecuteTime": {
     "end_time": "2022-01-06T13:30:44.367136Z",
     "start_time": "2022-01-06T13:30:44.358119Z"
    }
   },
   "source": [
    "## 4.1 Quais são os imóveis que a House Rocket deveria comprar e por qual preço?"
   ]
  },
  {
   "cell_type": "code",
   "execution_count": 15,
   "id": "e5201fe1",
   "metadata": {
    "ExecuteTime": {
     "end_time": "2022-01-06T19:26:37.915708Z",
     "start_time": "2022-01-06T19:26:15.315108Z"
    }
   },
   "outputs": [
    {
     "data": {
      "text/html": [
       "<div>\n",
       "<style scoped>\n",
       "    .dataframe tbody tr th:only-of-type {\n",
       "        vertical-align: middle;\n",
       "    }\n",
       "\n",
       "    .dataframe tbody tr th {\n",
       "        vertical-align: top;\n",
       "    }\n",
       "\n",
       "    .dataframe thead th {\n",
       "        text-align: right;\n",
       "    }\n",
       "</style>\n",
       "<table border=\"1\" class=\"dataframe\">\n",
       "  <thead>\n",
       "    <tr style=\"text-align: right;\">\n",
       "      <th></th>\n",
       "      <th>id</th>\n",
       "      <th>price</th>\n",
       "      <th>pay</th>\n",
       "    </tr>\n",
       "  </thead>\n",
       "  <tbody>\n",
       "    <tr>\n",
       "      <th>0</th>\n",
       "      <td>7895500070</td>\n",
       "      <td>240000</td>\n",
       "      <td>sim</td>\n",
       "    </tr>\n",
       "    <tr>\n",
       "      <th>5</th>\n",
       "      <td>3353400435</td>\n",
       "      <td>230000</td>\n",
       "      <td>sim</td>\n",
       "    </tr>\n",
       "    <tr>\n",
       "      <th>6</th>\n",
       "      <td>9262800171</td>\n",
       "      <td>252000</td>\n",
       "      <td>sim</td>\n",
       "    </tr>\n",
       "    <tr>\n",
       "      <th>7</th>\n",
       "      <td>3353401710</td>\n",
       "      <td>227950</td>\n",
       "      <td>sim</td>\n",
       "    </tr>\n",
       "    <tr>\n",
       "      <th>8</th>\n",
       "      <td>8159610030</td>\n",
       "      <td>196000</td>\n",
       "      <td>sim</td>\n",
       "    </tr>\n",
       "    <tr>\n",
       "      <th>...</th>\n",
       "      <td>...</td>\n",
       "      <td>...</td>\n",
       "      <td>...</td>\n",
       "    </tr>\n",
       "    <tr>\n",
       "      <th>21606</th>\n",
       "      <td>2771604196</td>\n",
       "      <td>465000</td>\n",
       "      <td>sim</td>\n",
       "    </tr>\n",
       "    <tr>\n",
       "      <th>21607</th>\n",
       "      <td>2770601457</td>\n",
       "      <td>542300</td>\n",
       "      <td>sim</td>\n",
       "    </tr>\n",
       "    <tr>\n",
       "      <th>21608</th>\n",
       "      <td>2770601912</td>\n",
       "      <td>570000</td>\n",
       "      <td>sim</td>\n",
       "    </tr>\n",
       "    <tr>\n",
       "      <th>21611</th>\n",
       "      <td>2770601782</td>\n",
       "      <td>453000</td>\n",
       "      <td>sim</td>\n",
       "    </tr>\n",
       "    <tr>\n",
       "      <th>21612</th>\n",
       "      <td>6821101731</td>\n",
       "      <td>549000</td>\n",
       "      <td>sim</td>\n",
       "    </tr>\n",
       "  </tbody>\n",
       "</table>\n",
       "<p>10862 rows × 3 columns</p>\n",
       "</div>"
      ],
      "text/plain": [
       "               id   price  pay\n",
       "0      7895500070  240000  sim\n",
       "5      3353400435  230000  sim\n",
       "6      9262800171  252000  sim\n",
       "7      3353401710  227950  sim\n",
       "8      8159610030  196000  sim\n",
       "...           ...     ...  ...\n",
       "21606  2771604196  465000  sim\n",
       "21607  2770601457  542300  sim\n",
       "21608  2770601912  570000  sim\n",
       "21611  2770601782  453000  sim\n",
       "21612  6821101731  549000  sim\n",
       "\n",
       "[10862 rows x 3 columns]"
      ]
     },
     "execution_count": 15,
     "metadata": {},
     "output_type": "execute_result"
    }
   ],
   "source": [
    "df = df.copy()\n",
    "m = df[['zipcode', 'price']].groupby('zipcode').median().reset_index()\n",
    "\n",
    "\n",
    "df2 = pd.merge(m, df, on='zipcode', how = 'inner')\n",
    "\n",
    "\n",
    "df2 = df2.rename(columns = {'price_y' : 'price', 'price_x' : 'price_median'} ) \n",
    "\n",
    "for i, row in df2.iterrows():\n",
    "    if (row['price_median'] >= row['price']) & (row['condition'] >= 2):\n",
    "        df2.loc[i,'pay'] =  'sim'\n",
    "    else:\n",
    "        df2.loc[i, 'pay'] = 'nao'\n",
    "\n",
    "compra = df2[df2['pay'] == 'sim']\n",
    "\n",
    "compra['pay'].shape[0]\n",
    "compra[['id', 'price', 'pay']]"
   ]
  },
  {
   "cell_type": "code",
   "execution_count": 16,
   "id": "1ab712dc",
   "metadata": {
    "ExecuteTime": {
     "end_time": "2022-01-06T19:26:49.242172Z",
     "start_time": "2022-01-06T19:26:49.182653Z"
    }
   },
   "outputs": [],
   "source": [
    "fil_zip = widgets.Dropdown(options = df2['pay'].unique().tolist(),\n",
    "                       description = 'regiao',\n",
    "                       disabled = False)\n",
    "\n",
    "\n",
    "def update_map (df3, fil_zip):\n",
    "    house = df2[(df2['pay'] == fil_zip)][['id', 'lat', 'long', 'condition', 'pay', 'price']] \n",
    "\n",
    "    mapa = px.scatter_mapbox(house, lat = 'lat', lon = 'long',  \n",
    "                         size = 'price',\n",
    "                         color = 'condition', opacity = 0.5, zoom = 10 )\n",
    "    \n",
    "\n",
    "    mapa.update_layout( mapbox_style = 'open-street-map')\n",
    "    mapa.update_layout( height = 600, margin = {'b':0, 't':0, 'r':0, 'l': 0})\n",
    "    mapa.show()"
   ]
  },
  {
   "cell_type": "code",
   "execution_count": 17,
   "id": "3f9b9752",
   "metadata": {
    "ExecuteTime": {
     "end_time": "2022-01-06T19:26:57.525645Z",
     "start_time": "2022-01-06T19:26:57.112575Z"
    }
   },
   "outputs": [
    {
     "data": {
      "application/vnd.jupyter.widget-view+json": {
       "model_id": "91ebe0fb9c6e463a8e941f948f94f57d",
       "version_major": 2,
       "version_minor": 0
      },
      "text/plain": [
       "interactive(children=(Dropdown(description='regiao', options=('sim', 'nao'), value='sim'), Output()), _dom_cla…"
      ]
     },
     "execution_count": 17,
     "metadata": {},
     "output_type": "execute_result"
    }
   ],
   "source": [
    "widgets.interactive( update_map, df3 = fixed(df2), fil_zip  = fil_zip) "
   ]
  },
  {
   "cell_type": "markdown",
   "id": "a235e891",
   "metadata": {},
   "source": [
    "## 4.2 Uma vez comprado, qual é o melhor momento para vendê-lo e por qual preço?"
   ]
  },
  {
   "cell_type": "code",
   "execution_count": 18,
   "id": "66e1d021",
   "metadata": {
    "ExecuteTime": {
     "end_time": "2022-01-06T19:27:03.183219Z",
     "start_time": "2022-01-06T19:27:03.095134Z"
    }
   },
   "outputs": [],
   "source": [
    "        \n",
    "df2['season'] = df2['mes'].apply(lambda x: 'summer' if (x > 5) & (x <= 8) else\n",
    "                                           'spring' if (x > 2) & (x <= 5) else\n",
    "                                           'fall' if (x > 8) & (x < 12) else\n",
    "                                           'winter') \n"
   ]
  },
  {
   "cell_type": "code",
   "execution_count": 19,
   "id": "e84d706c",
   "metadata": {
    "ExecuteTime": {
     "end_time": "2022-01-06T19:27:43.961427Z",
     "start_time": "2022-01-06T19:27:05.709556Z"
    }
   },
   "outputs": [],
   "source": [
    "df3 = df2.copy()\n",
    "\n",
    "\n",
    "df3 = df3[df3['pay'] == 'sim']\n",
    "\n",
    "df4 = df3[['season', 'zipcode', 'price']].groupby(['zipcode', 'season']).median().reset_index()\n",
    "\n",
    "df4 = df4.rename(columns = {'price' : 'price_medi_season', 'season': 'season_median'} ) \n",
    "\n",
    "df5 = pd.merge(df3, df4, on='zipcode', how = 'inner')\n",
    "\n",
    "for i, row in df5.iterrows():\n",
    "    if (row['price_medi_season'] > row['price']):\n",
    "        df5.loc[i, 'sale'] =  row['price'] * 1.3\n",
    "    else:\n",
    "        df5.loc[i, 'sale'] = row['price'] * 1.1\n"
   ]
  },
  {
   "cell_type": "code",
   "execution_count": 20,
   "id": "b747b350",
   "metadata": {
    "ExecuteTime": {
     "end_time": "2022-01-06T19:27:47.324355Z",
     "start_time": "2022-01-06T19:27:47.207765Z"
    }
   },
   "outputs": [
    {
     "data": {
      "text/html": [
       "<div>\n",
       "<style scoped>\n",
       "    .dataframe tbody tr th:only-of-type {\n",
       "        vertical-align: middle;\n",
       "    }\n",
       "\n",
       "    .dataframe tbody tr th {\n",
       "        vertical-align: top;\n",
       "    }\n",
       "\n",
       "    .dataframe thead th {\n",
       "        text-align: right;\n",
       "    }\n",
       "</style>\n",
       "<table border=\"1\" class=\"dataframe\">\n",
       "  <thead>\n",
       "    <tr style=\"text-align: right;\">\n",
       "      <th></th>\n",
       "      <th>zipcode</th>\n",
       "      <th>price_median</th>\n",
       "      <th>id</th>\n",
       "      <th>date</th>\n",
       "      <th>price</th>\n",
       "      <th>bedrooms</th>\n",
       "      <th>bathrooms</th>\n",
       "      <th>sqft_living</th>\n",
       "      <th>sqft_lot</th>\n",
       "      <th>floors</th>\n",
       "      <th>...</th>\n",
       "      <th>ano_construcao</th>\n",
       "      <th>porao</th>\n",
       "      <th>ano</th>\n",
       "      <th>mes</th>\n",
       "      <th>banheiro</th>\n",
       "      <th>pay</th>\n",
       "      <th>season</th>\n",
       "      <th>season_median</th>\n",
       "      <th>price_medi_season</th>\n",
       "      <th>sale</th>\n",
       "    </tr>\n",
       "  </thead>\n",
       "  <tbody>\n",
       "    <tr>\n",
       "      <th>0</th>\n",
       "      <td>98001</td>\n",
       "      <td>260000.00</td>\n",
       "      <td>7895500070</td>\n",
       "      <td>2015-02-13</td>\n",
       "      <td>240000</td>\n",
       "      <td>4</td>\n",
       "      <td>1.00</td>\n",
       "      <td>1220</td>\n",
       "      <td>8075</td>\n",
       "      <td>1.00</td>\n",
       "      <td>...</td>\n",
       "      <td>&gt; 1955</td>\n",
       "      <td>sim</td>\n",
       "      <td>2015</td>\n",
       "      <td>2</td>\n",
       "      <td>0-3</td>\n",
       "      <td>sim</td>\n",
       "      <td>winter</td>\n",
       "      <td>fall</td>\n",
       "      <td>215500.00</td>\n",
       "      <td>264000.00</td>\n",
       "    </tr>\n",
       "    <tr>\n",
       "      <th>1</th>\n",
       "      <td>98001</td>\n",
       "      <td>260000.00</td>\n",
       "      <td>7895500070</td>\n",
       "      <td>2015-02-13</td>\n",
       "      <td>240000</td>\n",
       "      <td>4</td>\n",
       "      <td>1.00</td>\n",
       "      <td>1220</td>\n",
       "      <td>8075</td>\n",
       "      <td>1.00</td>\n",
       "      <td>...</td>\n",
       "      <td>&gt; 1955</td>\n",
       "      <td>sim</td>\n",
       "      <td>2015</td>\n",
       "      <td>2</td>\n",
       "      <td>0-3</td>\n",
       "      <td>sim</td>\n",
       "      <td>winter</td>\n",
       "      <td>spring</td>\n",
       "      <td>210500.00</td>\n",
       "      <td>264000.00</td>\n",
       "    </tr>\n",
       "    <tr>\n",
       "      <th>2</th>\n",
       "      <td>98001</td>\n",
       "      <td>260000.00</td>\n",
       "      <td>7895500070</td>\n",
       "      <td>2015-02-13</td>\n",
       "      <td>240000</td>\n",
       "      <td>4</td>\n",
       "      <td>1.00</td>\n",
       "      <td>1220</td>\n",
       "      <td>8075</td>\n",
       "      <td>1.00</td>\n",
       "      <td>...</td>\n",
       "      <td>&gt; 1955</td>\n",
       "      <td>sim</td>\n",
       "      <td>2015</td>\n",
       "      <td>2</td>\n",
       "      <td>0-3</td>\n",
       "      <td>sim</td>\n",
       "      <td>winter</td>\n",
       "      <td>summer</td>\n",
       "      <td>213300.00</td>\n",
       "      <td>264000.00</td>\n",
       "    </tr>\n",
       "    <tr>\n",
       "      <th>3</th>\n",
       "      <td>98001</td>\n",
       "      <td>260000.00</td>\n",
       "      <td>7895500070</td>\n",
       "      <td>2015-02-13</td>\n",
       "      <td>240000</td>\n",
       "      <td>4</td>\n",
       "      <td>1.00</td>\n",
       "      <td>1220</td>\n",
       "      <td>8075</td>\n",
       "      <td>1.00</td>\n",
       "      <td>...</td>\n",
       "      <td>&gt; 1955</td>\n",
       "      <td>sim</td>\n",
       "      <td>2015</td>\n",
       "      <td>2</td>\n",
       "      <td>0-3</td>\n",
       "      <td>sim</td>\n",
       "      <td>winter</td>\n",
       "      <td>winter</td>\n",
       "      <td>233975.00</td>\n",
       "      <td>264000.00</td>\n",
       "    </tr>\n",
       "    <tr>\n",
       "      <th>4</th>\n",
       "      <td>98001</td>\n",
       "      <td>260000.00</td>\n",
       "      <td>3353400435</td>\n",
       "      <td>2014-07-21</td>\n",
       "      <td>230000</td>\n",
       "      <td>3</td>\n",
       "      <td>2.00</td>\n",
       "      <td>1450</td>\n",
       "      <td>11204</td>\n",
       "      <td>1.00</td>\n",
       "      <td>...</td>\n",
       "      <td>&gt; 1955</td>\n",
       "      <td>nao</td>\n",
       "      <td>2014</td>\n",
       "      <td>7</td>\n",
       "      <td>0-3</td>\n",
       "      <td>sim</td>\n",
       "      <td>summer</td>\n",
       "      <td>fall</td>\n",
       "      <td>215500.00</td>\n",
       "      <td>253000.00</td>\n",
       "    </tr>\n",
       "    <tr>\n",
       "      <th>...</th>\n",
       "      <td>...</td>\n",
       "      <td>...</td>\n",
       "      <td>...</td>\n",
       "      <td>...</td>\n",
       "      <td>...</td>\n",
       "      <td>...</td>\n",
       "      <td>...</td>\n",
       "      <td>...</td>\n",
       "      <td>...</td>\n",
       "      <td>...</td>\n",
       "      <td>...</td>\n",
       "      <td>...</td>\n",
       "      <td>...</td>\n",
       "      <td>...</td>\n",
       "      <td>...</td>\n",
       "      <td>...</td>\n",
       "      <td>...</td>\n",
       "      <td>...</td>\n",
       "      <td>...</td>\n",
       "      <td>...</td>\n",
       "      <td>...</td>\n",
       "    </tr>\n",
       "    <tr>\n",
       "      <th>43443</th>\n",
       "      <td>98199</td>\n",
       "      <td>689800.00</td>\n",
       "      <td>2770601782</td>\n",
       "      <td>2014-08-01</td>\n",
       "      <td>453000</td>\n",
       "      <td>3</td>\n",
       "      <td>2.50</td>\n",
       "      <td>1510</td>\n",
       "      <td>1618</td>\n",
       "      <td>2.50</td>\n",
       "      <td>...</td>\n",
       "      <td>&gt; 1955</td>\n",
       "      <td>sim</td>\n",
       "      <td>2014</td>\n",
       "      <td>8</td>\n",
       "      <td>0-3</td>\n",
       "      <td>sim</td>\n",
       "      <td>summer</td>\n",
       "      <td>winter</td>\n",
       "      <td>565000.00</td>\n",
       "      <td>588900.00</td>\n",
       "    </tr>\n",
       "    <tr>\n",
       "      <th>43444</th>\n",
       "      <td>98199</td>\n",
       "      <td>689800.00</td>\n",
       "      <td>6821101731</td>\n",
       "      <td>2014-09-30</td>\n",
       "      <td>549000</td>\n",
       "      <td>3</td>\n",
       "      <td>2.25</td>\n",
       "      <td>1230</td>\n",
       "      <td>1380</td>\n",
       "      <td>3.00</td>\n",
       "      <td>...</td>\n",
       "      <td>&gt; 1955</td>\n",
       "      <td>nao</td>\n",
       "      <td>2014</td>\n",
       "      <td>9</td>\n",
       "      <td>0-3</td>\n",
       "      <td>sim</td>\n",
       "      <td>fall</td>\n",
       "      <td>fall</td>\n",
       "      <td>511200.00</td>\n",
       "      <td>603900.00</td>\n",
       "    </tr>\n",
       "    <tr>\n",
       "      <th>43445</th>\n",
       "      <td>98199</td>\n",
       "      <td>689800.00</td>\n",
       "      <td>6821101731</td>\n",
       "      <td>2014-09-30</td>\n",
       "      <td>549000</td>\n",
       "      <td>3</td>\n",
       "      <td>2.25</td>\n",
       "      <td>1230</td>\n",
       "      <td>1380</td>\n",
       "      <td>3.00</td>\n",
       "      <td>...</td>\n",
       "      <td>&gt; 1955</td>\n",
       "      <td>nao</td>\n",
       "      <td>2014</td>\n",
       "      <td>9</td>\n",
       "      <td>0-3</td>\n",
       "      <td>sim</td>\n",
       "      <td>fall</td>\n",
       "      <td>spring</td>\n",
       "      <td>543115.00</td>\n",
       "      <td>603900.00</td>\n",
       "    </tr>\n",
       "    <tr>\n",
       "      <th>43446</th>\n",
       "      <td>98199</td>\n",
       "      <td>689800.00</td>\n",
       "      <td>6821101731</td>\n",
       "      <td>2014-09-30</td>\n",
       "      <td>549000</td>\n",
       "      <td>3</td>\n",
       "      <td>2.25</td>\n",
       "      <td>1230</td>\n",
       "      <td>1380</td>\n",
       "      <td>3.00</td>\n",
       "      <td>...</td>\n",
       "      <td>&gt; 1955</td>\n",
       "      <td>nao</td>\n",
       "      <td>2014</td>\n",
       "      <td>9</td>\n",
       "      <td>0-3</td>\n",
       "      <td>sim</td>\n",
       "      <td>fall</td>\n",
       "      <td>summer</td>\n",
       "      <td>524999.50</td>\n",
       "      <td>603900.00</td>\n",
       "    </tr>\n",
       "    <tr>\n",
       "      <th>43447</th>\n",
       "      <td>98199</td>\n",
       "      <td>689800.00</td>\n",
       "      <td>6821101731</td>\n",
       "      <td>2014-09-30</td>\n",
       "      <td>549000</td>\n",
       "      <td>3</td>\n",
       "      <td>2.25</td>\n",
       "      <td>1230</td>\n",
       "      <td>1380</td>\n",
       "      <td>3.00</td>\n",
       "      <td>...</td>\n",
       "      <td>&gt; 1955</td>\n",
       "      <td>nao</td>\n",
       "      <td>2014</td>\n",
       "      <td>9</td>\n",
       "      <td>0-3</td>\n",
       "      <td>sim</td>\n",
       "      <td>fall</td>\n",
       "      <td>winter</td>\n",
       "      <td>565000.00</td>\n",
       "      <td>713700.00</td>\n",
       "    </tr>\n",
       "  </tbody>\n",
       "</table>\n",
       "<p>43448 rows × 32 columns</p>\n",
       "</div>"
      ],
      "text/plain": [
       "       zipcode  price_median          id       date   price  bedrooms  \\\n",
       "0        98001     260000.00  7895500070 2015-02-13  240000         4   \n",
       "1        98001     260000.00  7895500070 2015-02-13  240000         4   \n",
       "2        98001     260000.00  7895500070 2015-02-13  240000         4   \n",
       "3        98001     260000.00  7895500070 2015-02-13  240000         4   \n",
       "4        98001     260000.00  3353400435 2014-07-21  230000         3   \n",
       "...        ...           ...         ...        ...     ...       ...   \n",
       "43443    98199     689800.00  2770601782 2014-08-01  453000         3   \n",
       "43444    98199     689800.00  6821101731 2014-09-30  549000         3   \n",
       "43445    98199     689800.00  6821101731 2014-09-30  549000         3   \n",
       "43446    98199     689800.00  6821101731 2014-09-30  549000         3   \n",
       "43447    98199     689800.00  6821101731 2014-09-30  549000         3   \n",
       "\n",
       "       bathrooms  sqft_living  sqft_lot  floors  ...  ano_construcao  porao  \\\n",
       "0           1.00         1220      8075    1.00  ...          > 1955    sim   \n",
       "1           1.00         1220      8075    1.00  ...          > 1955    sim   \n",
       "2           1.00         1220      8075    1.00  ...          > 1955    sim   \n",
       "3           1.00         1220      8075    1.00  ...          > 1955    sim   \n",
       "4           2.00         1450     11204    1.00  ...          > 1955    nao   \n",
       "...          ...          ...       ...     ...  ...             ...    ...   \n",
       "43443       2.50         1510      1618    2.50  ...          > 1955    sim   \n",
       "43444       2.25         1230      1380    3.00  ...          > 1955    nao   \n",
       "43445       2.25         1230      1380    3.00  ...          > 1955    nao   \n",
       "43446       2.25         1230      1380    3.00  ...          > 1955    nao   \n",
       "43447       2.25         1230      1380    3.00  ...          > 1955    nao   \n",
       "\n",
       "        ano  mes  banheiro  pay  season  season_median  price_medi_season  \\\n",
       "0      2015    2       0-3  sim  winter           fall          215500.00   \n",
       "1      2015    2       0-3  sim  winter         spring          210500.00   \n",
       "2      2015    2       0-3  sim  winter         summer          213300.00   \n",
       "3      2015    2       0-3  sim  winter         winter          233975.00   \n",
       "4      2014    7       0-3  sim  summer           fall          215500.00   \n",
       "...     ...  ...       ...  ...     ...            ...                ...   \n",
       "43443  2014    8       0-3  sim  summer         winter          565000.00   \n",
       "43444  2014    9       0-3  sim    fall           fall          511200.00   \n",
       "43445  2014    9       0-3  sim    fall         spring          543115.00   \n",
       "43446  2014    9       0-3  sim    fall         summer          524999.50   \n",
       "43447  2014    9       0-3  sim    fall         winter          565000.00   \n",
       "\n",
       "           sale  \n",
       "0     264000.00  \n",
       "1     264000.00  \n",
       "2     264000.00  \n",
       "3     264000.00  \n",
       "4     253000.00  \n",
       "...         ...  \n",
       "43443 588900.00  \n",
       "43444 603900.00  \n",
       "43445 603900.00  \n",
       "43446 603900.00  \n",
       "43447 713700.00  \n",
       "\n",
       "[43448 rows x 32 columns]"
      ]
     },
     "execution_count": 20,
     "metadata": {},
     "output_type": "execute_result"
    }
   ],
   "source": [
    "df5"
   ]
  },
  {
   "cell_type": "code",
   "execution_count": 21,
   "id": "b674790d",
   "metadata": {
    "ExecuteTime": {
     "end_time": "2022-01-06T19:28:09.263709Z",
     "start_time": "2022-01-06T19:28:09.229168Z"
    }
   },
   "outputs": [
    {
     "data": {
      "text/html": [
       "<div>\n",
       "<style scoped>\n",
       "    .dataframe tbody tr th:only-of-type {\n",
       "        vertical-align: middle;\n",
       "    }\n",
       "\n",
       "    .dataframe tbody tr th {\n",
       "        vertical-align: top;\n",
       "    }\n",
       "\n",
       "    .dataframe thead th {\n",
       "        text-align: right;\n",
       "    }\n",
       "</style>\n",
       "<table border=\"1\" class=\"dataframe\">\n",
       "  <thead>\n",
       "    <tr style=\"text-align: right;\">\n",
       "      <th></th>\n",
       "      <th>season</th>\n",
       "      <th>price</th>\n",
       "      <th>id</th>\n",
       "      <th>sale</th>\n",
       "    </tr>\n",
       "  </thead>\n",
       "  <tbody>\n",
       "    <tr>\n",
       "      <th>0</th>\n",
       "      <td>winter</td>\n",
       "      <td>240000</td>\n",
       "      <td>7895500070</td>\n",
       "      <td>264000.00</td>\n",
       "    </tr>\n",
       "    <tr>\n",
       "      <th>1</th>\n",
       "      <td>winter</td>\n",
       "      <td>240000</td>\n",
       "      <td>7895500070</td>\n",
       "      <td>264000.00</td>\n",
       "    </tr>\n",
       "    <tr>\n",
       "      <th>2</th>\n",
       "      <td>winter</td>\n",
       "      <td>240000</td>\n",
       "      <td>7895500070</td>\n",
       "      <td>264000.00</td>\n",
       "    </tr>\n",
       "    <tr>\n",
       "      <th>3</th>\n",
       "      <td>winter</td>\n",
       "      <td>240000</td>\n",
       "      <td>7895500070</td>\n",
       "      <td>264000.00</td>\n",
       "    </tr>\n",
       "    <tr>\n",
       "      <th>4</th>\n",
       "      <td>summer</td>\n",
       "      <td>230000</td>\n",
       "      <td>3353400435</td>\n",
       "      <td>253000.00</td>\n",
       "    </tr>\n",
       "    <tr>\n",
       "      <th>...</th>\n",
       "      <td>...</td>\n",
       "      <td>...</td>\n",
       "      <td>...</td>\n",
       "      <td>...</td>\n",
       "    </tr>\n",
       "    <tr>\n",
       "      <th>43443</th>\n",
       "      <td>summer</td>\n",
       "      <td>453000</td>\n",
       "      <td>2770601782</td>\n",
       "      <td>588900.00</td>\n",
       "    </tr>\n",
       "    <tr>\n",
       "      <th>43444</th>\n",
       "      <td>fall</td>\n",
       "      <td>549000</td>\n",
       "      <td>6821101731</td>\n",
       "      <td>603900.00</td>\n",
       "    </tr>\n",
       "    <tr>\n",
       "      <th>43445</th>\n",
       "      <td>fall</td>\n",
       "      <td>549000</td>\n",
       "      <td>6821101731</td>\n",
       "      <td>603900.00</td>\n",
       "    </tr>\n",
       "    <tr>\n",
       "      <th>43446</th>\n",
       "      <td>fall</td>\n",
       "      <td>549000</td>\n",
       "      <td>6821101731</td>\n",
       "      <td>603900.00</td>\n",
       "    </tr>\n",
       "    <tr>\n",
       "      <th>43447</th>\n",
       "      <td>fall</td>\n",
       "      <td>549000</td>\n",
       "      <td>6821101731</td>\n",
       "      <td>713700.00</td>\n",
       "    </tr>\n",
       "  </tbody>\n",
       "</table>\n",
       "<p>43448 rows × 4 columns</p>\n",
       "</div>"
      ],
      "text/plain": [
       "       season   price          id      sale\n",
       "0      winter  240000  7895500070 264000.00\n",
       "1      winter  240000  7895500070 264000.00\n",
       "2      winter  240000  7895500070 264000.00\n",
       "3      winter  240000  7895500070 264000.00\n",
       "4      summer  230000  3353400435 253000.00\n",
       "...       ...     ...         ...       ...\n",
       "43443  summer  453000  2770601782 588900.00\n",
       "43444    fall  549000  6821101731 603900.00\n",
       "43445    fall  549000  6821101731 603900.00\n",
       "43446    fall  549000  6821101731 603900.00\n",
       "43447    fall  549000  6821101731 713700.00\n",
       "\n",
       "[43448 rows x 4 columns]"
      ]
     },
     "execution_count": 21,
     "metadata": {},
     "output_type": "execute_result"
    }
   ],
   "source": [
    "lista2 = df5['season'].tolist()\n",
    "df5[['season', 'price', 'id', 'sale']]"
   ]
  },
  {
   "cell_type": "code",
   "execution_count": 22,
   "id": "29f7997c",
   "metadata": {
    "ExecuteTime": {
     "end_time": "2022-01-06T19:28:15.007377Z",
     "start_time": "2022-01-06T19:28:13.948995Z"
    }
   },
   "outputs": [
    {
     "data": {
      "image/png": "[encoded data removed]",
      "text/plain": [
       "<Figure size 640x480 with 1 Axes>"
      ]
     },
     "metadata": {},
     "output_type": "display_data"
    }
   ],
   "source": [
    "n = df5[['price_medi_season', 'price', 'sale', 'price_median', 'season', 'zipcode']]\n",
    "n\n",
    "sns.barplot(data = n, x = 'season', y = 'sale');"
   ]
  },
  {
   "cell_type": "markdown",
   "id": "d0af41b4",
   "metadata": {},
   "source": [
    "## 4.3 Resultado"
   ]
  },
  {
   "cell_type": "code",
   "execution_count": 23,
   "id": "e26e43c1",
   "metadata": {
    "ExecuteTime": {
     "end_time": "2022-01-06T19:28:17.630187Z",
     "start_time": "2022-01-06T19:28:17.613177Z"
    }
   },
   "outputs": [
    {
     "data": {
      "text/plain": [
       "3105165061.0000005"
      ]
     },
     "execution_count": 23,
     "metadata": {},
     "output_type": "execute_result"
    }
   ],
   "source": [
    "df5 ['lucro'] = df5['sale'] - df5['price']\n",
    "df5['lucro'].sum()"
   ]
  }
 ],
 "metadata": {
  "kernelspec": {
   "display_name": "Python 3 (ipykernel)",
   "language": "python",
   "name": "python3"
  },
  "language_info": {
   "codemirror_mode": {
    "name": "ipython",
    "version": 3
   },
   "file_extension": ".py",
   "mimetype": "text/x-python",
   "name": "python",
   "nbconvert_exporter": "python",
   "pygments_lexer": "ipython3",
   "version": "3.11.5"
  }
 },
 "nbformat": 4,
 "nbformat_minor": 5
}
